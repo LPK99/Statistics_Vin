{
 "metadata": {
  "language_info": {
   "codemirror_mode": {
    "name": "ipython",
    "version": 3
   },
   "file_extension": ".py",
   "mimetype": "text/x-python",
   "name": "python",
   "nbconvert_exporter": "python",
   "pygments_lexer": "ipython3",
   "version": "3.9.1"
  },
  "orig_nbformat": 4,
  "kernelspec": {
   "name": "python3",
   "display_name": "Python 3.9.1 64-bit"
  },
  "interpreter": {
   "hash": "25355d53bdc9b0feb20764a4fadf8fea7905d79df72ba215212bfe63b25c590d"
  }
 },
 "nbformat": 4,
 "nbformat_minor": 2,
 "cells": [
  {
   "cell_type": "code",
   "execution_count": 13,
   "metadata": {},
   "outputs": [],
   "source": [
    "from scipy import stats\n",
    "import numpy as np\n",
    "n = 1000\n",
    "dof = 4\n",
    "X = stats.t.rvs(15, size=1000)"
   ]
  },
  {
   "cell_type": "code",
   "execution_count": 6,
   "metadata": {},
   "outputs": [
    {
     "output_type": "stream",
     "name": "stdout",
     "text": [
      "Help on t_gen in module scipy.stats._continuous_distns:\n\n<scipy.stats._continuous_distns.t_gen object>\n    A Student's t continuous random variable.\n    \n    For the noncentral t distribution, see `nct`.\n    \n    As an instance of the `rv_continuous` class, `t` object inherits from it\n    a collection of generic methods (see below for the full list),\n    and completes them with details specific for this particular distribution.\n    \n    Methods\n    -------\n    rvs(df, loc=0, scale=1, size=1, random_state=None)\n        Random variates.\n    pdf(x, df, loc=0, scale=1)\n        Probability density function.\n    logpdf(x, df, loc=0, scale=1)\n        Log of the probability density function.\n    cdf(x, df, loc=0, scale=1)\n        Cumulative distribution function.\n    logcdf(x, df, loc=0, scale=1)\n        Log of the cumulative distribution function.\n    sf(x, df, loc=0, scale=1)\n        Survival function  (also defined as ``1 - cdf``, but `sf` is sometimes more accurate).\n    logsf(x, df, loc=0, scale=1)\n        Log of the survival function.\n    ppf(q, df, loc=0, scale=1)\n        Percent point function (inverse of ``cdf`` --- percentiles).\n    isf(q, df, loc=0, scale=1)\n        Inverse survival function (inverse of ``sf``).\n    moment(n, df, loc=0, scale=1)\n        Non-central moment of order n\n    stats(df, loc=0, scale=1, moments='mv')\n        Mean('m'), variance('v'), skew('s'), and/or kurtosis('k').\n    entropy(df, loc=0, scale=1)\n        (Differential) entropy of the RV.\n    fit(data)\n        Parameter estimates for generic data.\n        See `scipy.stats.rv_continuous.fit <https://docs.scipy.org/doc/scipy/reference/generated/scipy.stats.rv_continuous.fit.html#scipy.stats.rv_continuous.fit>`__ for detailed documentation of the\n        keyword arguments.\n    expect(func, args=(df,), loc=0, scale=1, lb=None, ub=None, conditional=False, **kwds)\n        Expected value of a function (of one argument) with respect to the distribution.\n    median(df, loc=0, scale=1)\n        Median of the distribution.\n    mean(df, loc=0, scale=1)\n        Mean of the distribution.\n    var(df, loc=0, scale=1)\n        Variance of the distribution.\n    std(df, loc=0, scale=1)\n        Standard deviation of the distribution.\n    interval(alpha, df, loc=0, scale=1)\n        Endpoints of the range that contains fraction alpha [0, 1] of the\n        distribution\n    \n    See Also\n    --------\n    nct\n    \n    Notes\n    -----\n    The probability density function for `t` is:\n    \n    .. math::\n    \n        f(x, \\nu) = \\frac{\\Gamma((\\nu+1)/2)}\n                        {\\sqrt{\\pi \\nu} \\Gamma(\\nu/2)}\n                    (1+x^2/\\nu)^{-(\\nu+1)/2}\n    \n    where :math:`x` is a real number and the degrees of freedom parameter\n    :math:`\\nu` (denoted ``df`` in the implementation) satisfies\n    :math:`\\nu > 0`. :math:`\\Gamma` is the gamma function\n    (`scipy.special.gamma`).\n    \n    The probability density above is defined in the \"standardized\" form. To shift\n    and/or scale the distribution use the ``loc`` and ``scale`` parameters.\n    Specifically, ``t.pdf(x, df, loc, scale)`` is identically\n    equivalent to ``t.pdf(y, df) / scale`` with\n    ``y = (x - loc) / scale``. Note that shifting the location of a distribution\n    does not make it a \"noncentral\" distribution; noncentral generalizations of\n    some distributions are available in separate classes.\n    \n    Examples\n    --------\n    >>> from scipy.stats import t\n    >>> import matplotlib.pyplot as plt\n    >>> fig, ax = plt.subplots(1, 1)\n    \n    Calculate the first four moments:\n    \n    >>> df = 2.74\n    >>> mean, var, skew, kurt = t.stats(df, moments='mvsk')\n    \n    Display the probability density function (``pdf``):\n    \n    >>> x = np.linspace(t.ppf(0.01, df),\n    ...                 t.ppf(0.99, df), 100)\n    >>> ax.plot(x, t.pdf(x, df),\n    ...        'r-', lw=5, alpha=0.6, label='t pdf')\n    \n    Alternatively, the distribution object can be called (as a function)\n    to fix the shape, location and scale parameters. This returns a \"frozen\"\n    RV object holding the given parameters fixed.\n    \n    Freeze the distribution and display the frozen ``pdf``:\n    \n    >>> rv = t(df)\n    >>> ax.plot(x, rv.pdf(x), 'k-', lw=2, label='frozen pdf')\n    \n    Check accuracy of ``cdf`` and ``ppf``:\n    \n    >>> vals = t.ppf([0.001, 0.5, 0.999], df)\n    >>> np.allclose([0.001, 0.5, 0.999], t.cdf(vals, df))\n    True\n    \n    Generate random numbers:\n    \n    >>> r = t.rvs(df, size=1000)\n    \n    And compare the histogram:\n    \n    >>> ax.hist(r, density=True, histtype='stepfilled', alpha=0.2)\n    >>> ax.legend(loc='best', frameon=False)\n    >>> plt.show()\n\n"
     ]
    }
   ],
   "source": [
    "help(stats.t)"
   ]
  },
  {
   "cell_type": "code",
   "execution_count": 14,
   "metadata": {},
   "outputs": [
    {
     "output_type": "stream",
     "name": "stdout",
     "text": [
      "-0.046690089216736286\n1.1815610459276613\n1.086996341266916\n"
     ]
    }
   ],
   "source": [
    "print(X.mean())\n",
    "print(X.var())\n",
    "print(X.std())"
   ]
  },
  {
   "cell_type": "code",
   "execution_count": null,
   "metadata": {},
   "outputs": [],
   "source": []
  }
 ]
}