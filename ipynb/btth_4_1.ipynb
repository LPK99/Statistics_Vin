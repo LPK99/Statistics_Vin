{
 "metadata": {
  "language_info": {
   "codemirror_mode": {
    "name": "ipython",
    "version": 3
   },
   "file_extension": ".py",
   "mimetype": "text/x-python",
   "name": "python",
   "nbconvert_exporter": "python",
   "pygments_lexer": "ipython3",
   "version": "3.9.1"
  },
  "orig_nbformat": 4,
  "kernelspec": {
   "name": "python3",
   "display_name": "Python 3.9.1 64-bit"
  },
  "interpreter": {
   "hash": "25355d53bdc9b0feb20764a4fadf8fea7905d79df72ba215212bfe63b25c590d"
  }
 },
 "nbformat": 4,
 "nbformat_minor": 2,
 "cells": [
  {
   "cell_type": "code",
   "execution_count": 79,
   "metadata": {},
   "outputs": [],
   "source": [
    "import numpy as np\n",
    "x = np.arange(6)+1\n",
    "y = np.arange(6)+1\n",
    "_pmfx = x*0+1/6\n",
    "_pmfy = y*0+1/6\n",
    "jpmf = np.ones((6,6))*1/36"
   ]
  },
  {
   "cell_type": "code",
   "execution_count": 80,
   "metadata": {},
   "outputs": [],
   "source": [
    "cdf_x = _pmfx.cumsum()\n",
    "cdf_y = _pmfy.cumsum()"
   ]
  },
  {
   "cell_type": "code",
   "execution_count": 81,
   "metadata": {},
   "outputs": [],
   "source": [
    "EX = np.sum(x*_pmfx)\n",
    "EY = np.sum(y*_pmfy)"
   ]
  },
  {
   "cell_type": "code",
   "execution_count": 82,
   "metadata": {},
   "outputs": [],
   "source": [
    "VarX = np.sum((x-EX)**2*_x)\n",
    "VarY = np.sum((y-EY)**2*_y)"
   ]
  },
  {
   "cell_type": "code",
   "execution_count": 83,
   "metadata": {},
   "outputs": [
    {
     "output_type": "stream",
     "name": "stdout",
     "text": [
      "1.7763568394002505e-15\n12.250000000000002\n"
     ]
    }
   ],
   "source": [
    "EXY = 0\n",
    "for i in x:\n",
    "    for j in y:\n",
    "        EXY = EXY + i*j*jpmf[j-1,i-1]\n",
    "covXY=EXY-EX*EY # H\n",
    "pritnnt(covXY)\n",
    "print()EXY"
   ]
  },
  {
   "cell_type": "code",
   "execution_count": 85,
   "metadata": {},
   "outputs": [],
   "source": [
    "cov_matrix = np.matrix([[VarX, covXY],[covXY, VarY]])"
   ]
  },
  {
   "cell_type": "code",
   "execution_count": 86,
   "metadata": {},
   "outputs": [
    {
     "output_type": "execute_result",
     "data": {
      "text/plain": [
       "matrix([[2.91666667e+00, 1.77635684e-15],\n",
       "        [1.77635684e-15, 2.91666667e+00]])"
      ]
     },
     "metadata": {},
     "execution_count": 86
    }
   ],
   "source": [
    "cov_matrix"
   ]
  }
 ]
}