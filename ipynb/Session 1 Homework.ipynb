{
 "cells": [
  {
   "cell_type": "markdown",
   "metadata": {},
   "source": [
    "# Exercise 1:"
   ]
  },
  {
   "cell_type": "code",
   "execution_count": 3,
   "metadata": {},
   "outputs": [],
   "source": [
    "import numpy as np"
   ]
  },
  {
   "cell_type": "code",
   "execution_count": null,
   "metadata": {},
   "outputs": [],
   "source": [
    "def xucsac():\n",
    "    return np.floor(np.random.random()*6+1)"
   ]
  },
  {
   "cell_type": "code",
   "execution_count": null,
   "metadata": {},
   "outputs": [],
   "source": [
    "N = 5000 # number of tosses\n",
    "Observations = np.zeros(N)\n",
    "for i in range(N):\n",
    "    Observations[i] = xucsac()\n",
    "xacsuat = np.zeros(6) # tính xác suất của từng số chấm xuất hiện\n",
    "for j in range(6):\n",
    "    xacsuat[j] = (Observations==j+1).sum()/N\n",
    "xacsuat"
   ]
  },
  {
   "cell_type": "markdown",
   "metadata": {},
   "source": [
    "Xác suất để số chấm xuất hiện là 4:"
   ]
  },
  {
   "cell_type": "code",
   "execution_count": null,
   "metadata": {},
   "outputs": [],
   "source": [
    "print('Xác suất để số chấm xuất hiện là 4: ', xacsuat[3]) # giá trị kì vọng: 1/6"
   ]
  },
  {
   "cell_type": "markdown",
   "metadata": {},
   "source": [
    "Xác suất để số chấm xuất hiện lớn hơn hoặc bằng 4:"
   ]
  },
  {
   "cell_type": "code",
   "execution_count": null,
   "metadata": {},
   "outputs": [],
   "source": [
    "xacsuathon4 = xacsuat[3:].sum()\n",
    "print('Xác suất để số chấm xuất hiện lớn hơn hoặc bằng 4: ', xacsuathon4) # giá trị kì vọng: 0.5"
   ]
  },
  {
   "cell_type": "markdown",
   "metadata": {},
   "source": [
    "Giả sử biết rằng số chấm xuất hiện lớn hơn hoặc bằng 4. Tìm xác\n",
    "suất để mặt 6 chấm xuất hiện."
   ]
  },
  {
   "cell_type": "code",
   "execution_count": null,
   "metadata": {},
   "outputs": [],
   "source": [
    "print('Xác suất để số chấm xuất hiện = 6 biết rằng số chấm xuất hiện >=4: ', xacsuat[5]/xacsuathon4) # giá trị kì vọng 1/3"
   ]
  },
  {
   "cell_type": "markdown",
   "metadata": {},
   "source": [
    "# Exercise 2:"
   ]
  },
  {
   "cell_type": "code",
   "execution_count": null,
   "metadata": {},
   "outputs": [],
   "source": [
    "from sklearn import datasets # call sklearn library\n",
    "iris = datasets.load_iris()\n",
    "#print(iris.keys())\n",
    "x = iris.data\n",
    "y = iris.target\n",
    "\n",
    "from sklearn.model_selection import train_test_split\n",
    "x_train, x_test, y_train, y_test = train_test_split(x,y,test_size=0.3)\n",
    "\n",
    "from sklearn import tree\n",
    "classifier = tree.DecisionTreeClassifier()\n",
    "classifier.fit(x_train, y_train)\n",
    "y_pred = classifier.predict(x_test)\n",
    "y_pred"
   ]
  },
  {
   "cell_type": "code",
   "execution_count": null,
   "metadata": {},
   "outputs": [],
   "source": [
    "import numpy as np\n",
    "from sklearn.metrics import precision_score, recall_score,\\\n",
    "    confusion_matrix, accuracy_score, f1_score, classification_report\n",
    "\n",
    "#print('Accuracy: ', accuracy_score(y_test, y_pred))\n",
    "#print('Recall: ', recall_score(y_test, y_pred, average='weighted'))\n",
    "#print('Precision: ', precision_score(y_test, y_pred, average='weighted'))\n",
    "#print('\\n confusion matrix: \\n', confusion_matrix(y_test, y_pred))\n",
    "\n",
    "import matplotlib.pyplot as plt\n",
    "import seaborn as sns\n",
    "sns.heatmap(confusion_matrix(y_test, y_pred), annot=True, cmap='Blues')\n",
    "plt.xlabel('Predicted Test Data')\n",
    "plt.ylabel('True Test Data')\n",
    "\n",
    "print(classification_report(y_test, y_pred, digits=3))"
   ]
  },
  {
   "cell_type": "markdown",
   "metadata": {},
   "source": [
    "Ta thu được Confusion Matrix như trên, từ đó tìm được giá trị Precision và Recall cho từng loại của Hoa diên vỹ, cũng như giá trị Precision, Recall và Accuracy cho toàn bộ mô hình tổng quát."
   ]
  }
 ],
 "metadata": {
  "kernelspec": {
   "name": "python3",
   "display_name": "Python 3.9.1 64-bit"
  },
  "language_info": {
   "codemirror_mode": {
    "name": "ipython",
    "version": 3
   },
   "file_extension": ".py",
   "mimetype": "text/x-python",
   "name": "python",
   "nbconvert_exporter": "python",
   "pygments_lexer": "ipython3",
   "version": "3.9.1"
  },
  "interpreter": {
   "hash": "25355d53bdc9b0feb20764a4fadf8fea7905d79df72ba215212bfe63b25c590d"
  }
 },
 "nbformat": 4,
 "nbformat_minor": 4
}