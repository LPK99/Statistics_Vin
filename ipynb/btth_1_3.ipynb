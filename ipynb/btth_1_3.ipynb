{
 "metadata": {
  "language_info": {
   "codemirror_mode": {
    "name": "ipython",
    "version": 3
   },
   "file_extension": ".py",
   "mimetype": "text/x-python",
   "name": "python",
   "nbconvert_exporter": "python",
   "pygments_lexer": "ipython3",
   "version": "3.9.1"
  },
  "orig_nbformat": 4,
  "kernelspec": {
   "name": "python3",
   "display_name": "Python 3.9.1 64-bit"
  },
  "interpreter": {
   "hash": "25355d53bdc9b0feb20764a4fadf8fea7905d79df72ba215212bfe63b25c590d"
  }
 },
 "nbformat": 4,
 "nbformat_minor": 2,
 "cells": [
  {
   "cell_type": "code",
   "execution_count": 131,
   "metadata": {},
   "outputs": [
    {
     "output_type": "stream",
     "name": "stdout",
     "text": [
      "35.055\n5.861874700127938\n34.361575\n[38. 40. 25. ... 36. 32. 32.]\n"
     ]
    },
    {
     "output_type": "execute_result",
     "data": {
      "text/plain": [
       "0.4044"
      ]
     },
     "metadata": {},
     "execution_count": 131
    }
   ],
   "source": [
    "import seaborn as sns\n",
    "from scipy import stats\n",
    "import numpy as np\n",
    "X = stats.poisson.rvs(35, size=5000)\n",
    "print(X.mean())\n",
    "print(X.std())\n",
    "print(X.var())\n",
    "print(stats.poisson.median(X))\n",
    "_x = (X == 35).sum()\n",
    "pmf = _x/len(X)\n",
    "val, cnt = np.unique(X, return_counts=True)\n",
    "_pmf = cnt / len(X)\n",
    "cdf = np.cumsum(_pmf)\n",
    "cdf[15]"
   ]
  },
  {
   "cell_type": "code",
   "execution_count": 126,
   "metadata": {},
   "outputs": [
    {
     "output_type": "stream",
     "name": "stdout",
     "text": [
      "Help on method median in module scipy.stats._distn_infrastructure:\n\nmedian(*args, **kwds) method of scipy.stats._discrete_distns.poisson_gen instance\n    Median of the distribution.\n    \n    Parameters\n    ----------\n    arg1, arg2, arg3,... : array_like\n        The shape parameter(s) for the distribution (see docstring of the\n        instance object for more information)\n    loc : array_like, optional\n        Location parameter, Default is 0.\n    scale : array_like, optional\n        Scale parameter, Default is 1.\n    \n    Returns\n    -------\n    median : float\n        The median of the distribution.\n    \n    See Also\n    --------\n    rv_discrete.ppf\n        Inverse of the CDF\n\n"
     ]
    }
   ],
   "source": [
    "help(stats.poisson.median)"
   ]
  },
  {
   "cell_type": "code",
   "execution_count": null,
   "metadata": {},
   "outputs": [],
   "source": []
  }
 ]
}