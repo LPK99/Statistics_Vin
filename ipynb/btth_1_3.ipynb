{
 "metadata": {
  "language_info": {
   "codemirror_mode": {
    "name": "ipython",
    "version": 3
   },
   "file_extension": ".py",
   "mimetype": "text/x-python",
   "name": "python",
   "nbconvert_exporter": "python",
   "pygments_lexer": "ipython3",
   "version": "3.9.1"
  },
  "orig_nbformat": 4,
  "kernelspec": {
   "name": "python3",
   "display_name": "Python 3.9.1 64-bit"
  },
  "interpreter": {
   "hash": "25355d53bdc9b0feb20764a4fadf8fea7905d79df72ba215212bfe63b25c590d"
  }
 },
 "nbformat": 4,
 "nbformat_minor": 2,
 "cells": [
  {
   "cell_type": "code",
   "execution_count": 32,
   "metadata": {},
   "outputs": [
    {
     "output_type": "stream",
     "name": "stdout",
     "text": [
      "0.06727319239963186\n0.00011840687346055835\n35.0\n35.0\n35.0\n"
     ]
    }
   ],
   "source": [
    "import seaborn as sns\n",
    "import numpy as np\n",
    "from scipy import stats\n",
    "X = stats.poisson(35)\n",
    "print(X.pmf(35))\n",
    "print(X.cdf(15))\n",
    "print(X.mean())\n",
    "print(X.var())\n",
    "print(X.median())"
   ]
  },
  {
   "cell_type": "code",
   "execution_count": 28,
   "metadata": {},
   "outputs": [
    {
     "output_type": "stream",
     "name": "stdout",
     "text": [
      "Help on poisson_gen in module scipy.stats._discrete_distns:\n\n<scipy.stats._discrete_distns.poisson_gen object>\n    A Poisson discrete random variable.\n    \n    As an instance of the `rv_discrete` class, `poisson` object inherits from it\n    a collection of generic methods (see below for the full list),\n    and completes them with details specific for this particular distribution.\n    \n    Methods\n    -------\n    rvs(mu, loc=0, size=1, random_state=None)\n        Random variates.\n    pmf(k, mu, loc=0)\n        Probability mass function.\n    logpmf(k, mu, loc=0)\n        Log of the probability mass function.\n    cdf(k, mu, loc=0)\n        Cumulative distribution function.\n    logcdf(k, mu, loc=0)\n        Log of the cumulative distribution function.\n    sf(k, mu, loc=0)\n        Survival function  (also defined as ``1 - cdf``, but `sf` is sometimes more accurate).\n    logsf(k, mu, loc=0)\n        Log of the survival function.\n    ppf(q, mu, loc=0)\n        Percent point function (inverse of ``cdf`` --- percentiles).\n    isf(q, mu, loc=0)\n        Inverse survival function (inverse of ``sf``).\n    stats(mu, loc=0, moments='mv')\n        Mean('m'), variance('v'), skew('s'), and/or kurtosis('k').\n    entropy(mu, loc=0)\n        (Differential) entropy of the RV.\n    expect(func, args=(mu,), loc=0, lb=None, ub=None, conditional=False)\n        Expected value of a function (of one argument) with respect to the distribution.\n    median(mu, loc=0)\n        Median of the distribution.\n    mean(mu, loc=0)\n        Mean of the distribution.\n    var(mu, loc=0)\n        Variance of the distribution.\n    std(mu, loc=0)\n        Standard deviation of the distribution.\n    interval(alpha, mu, loc=0)\n        Endpoints of the range that contains fraction alpha [0, 1] of the\n        distribution\n    \n    Notes\n    -----\n    The probability mass function for `poisson` is:\n    \n    .. math::\n    \n        f(k) = \\exp(-\\mu) \\frac{\\mu^k}{k!}\n    \n    for :math:`k \\ge 0`.\n    \n    `poisson` takes :math:`\\mu \\geq 0` as shape parameter.\n    When :math:`\\mu = 0`, the ``pmf`` method\n    returns ``1.0`` at quantile :math:`k = 0`.\n    \n    The probability mass function above is defined in the \"standardized\" form.\n    To shift distribution use the ``loc`` parameter.\n    Specifically, ``poisson.pmf(k, mu, loc)`` is identically\n    equivalent to ``poisson.pmf(k - loc, mu)``.\n    \n    Examples\n    --------\n    >>> from scipy.stats import poisson\n    >>> import matplotlib.pyplot as plt\n    >>> fig, ax = plt.subplots(1, 1)\n    \n    Calculate the first four moments:\n    \n    >>> mu = 0.6\n    >>> mean, var, skew, kurt = poisson.stats(mu, moments='mvsk')\n    \n    Display the probability mass function (``pmf``):\n    \n    >>> x = np.arange(poisson.ppf(0.01, mu),\n    ...               poisson.ppf(0.99, mu))\n    >>> ax.plot(x, poisson.pmf(x, mu), 'bo', ms=8, label='poisson pmf')\n    >>> ax.vlines(x, 0, poisson.pmf(x, mu), colors='b', lw=5, alpha=0.5)\n    \n    Alternatively, the distribution object can be called (as a function)\n    to fix the shape and location. This returns a \"frozen\" RV object holding\n    the given parameters fixed.\n    \n    Freeze the distribution and display the frozen ``pmf``:\n    \n    >>> rv = poisson(mu)\n    >>> ax.vlines(x, 0, rv.pmf(x), colors='k', linestyles='-', lw=1,\n    ...         label='frozen pmf')\n    >>> ax.legend(loc='best', frameon=False)\n    >>> plt.show()\n    \n    Check accuracy of ``cdf`` and ``ppf``:\n    \n    >>> prob = poisson.cdf(x, mu)\n    >>> np.allclose(x, poisson.ppf(prob, mu))\n    True\n    \n    Generate random numbers:\n    \n    >>> r = poisson.rvs(mu, size=1000)\n\n"
     ]
    }
   ],
   "source": [
    "help(stats.poisson)"
   ]
  },
  {
   "cell_type": "code",
   "execution_count": null,
   "metadata": {},
   "outputs": [],
   "source": []
  }
 ]
}