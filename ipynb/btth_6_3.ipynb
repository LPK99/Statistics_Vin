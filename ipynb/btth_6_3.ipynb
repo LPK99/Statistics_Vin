{
 "metadata": {
  "language_info": {
   "codemirror_mode": {
    "name": "ipython",
    "version": 3
   },
   "file_extension": ".py",
   "mimetype": "text/x-python",
   "name": "python",
   "nbconvert_exporter": "python",
   "pygments_lexer": "ipython3",
   "version": 3
  },
  "orig_nbformat": 4
 },
 "nbformat": 4,
 "nbformat_minor": 2,
 "cells": [
  {
   "cell_type": "code",
   "execution_count": null,
   "metadata": {},
   "outputs": [],
   "source": [
    "import numpy as np\n",
    "from scipy import stats\n",
    "1 - stats.norm.cdf(5, 32-22, np.sqrt(pow(60, 2)/ 10+ pow(70, 2)/ 14))\n",
    "\n",
    "\n"
   ]
  }
 ]
}