{
 "metadata": {
  "language_info": {
   "codemirror_mode": {
    "name": "ipython",
    "version": 3
   },
   "file_extension": ".py",
   "mimetype": "text/x-python",
   "name": "python",
   "nbconvert_exporter": "python",
   "pygments_lexer": "ipython3",
   "version": "3.9.1"
  },
  "orig_nbformat": 4,
  "kernelspec": {
   "name": "python3",
   "display_name": "Python 3.9.1 64-bit"
  },
  "interpreter": {
   "hash": "25355d53bdc9b0feb20764a4fadf8fea7905d79df72ba215212bfe63b25c590d"
  }
 },
 "nbformat": 4,
 "nbformat_minor": 2,
 "cells": [
  {
   "cell_type": "code",
   "execution_count": 46,
   "metadata": {},
   "outputs": [
    {
     "output_type": "stream",
     "name": "stdout",
     "text": [
      "0.1666\n0.5064000000000001\n0.32977883096366506\n"
     ]
    }
   ],
   "source": [
    "import numpy as np\n",
    "so_lan_tung_xuc_xac = 5000\n",
    "tung_xuc_xac = np.random.randint(6, size=so_lan_tung_xuc_xac)\n",
    "so_lan_1 = (tung_xuc_xac == 0).sum()\n",
    "so_lan_2 = (tung_xuc_xac == 1).sum()\n",
    "so_lan_3 = (tung_xuc_xac == 2).sum()\n",
    "so_lan_4 = (tung_xuc_xac == 3).sum()\n",
    "so_lan_5 = (tung_xuc_xac == 4).sum()\n",
    "so_lan_6 = (tung_xuc_xac == 5).sum()\n",
    "p_1 = so_lan_1/so_lan_tung_xuc_xac\n",
    "p_2 = so_lan_2/so_lan_tung_xuc_xac\n",
    "p_3 = so_lan_3/so_lan_tung_xuc_xac\n",
    "p_4 = so_lan_4/so_lan_tung_xuc_xac\n",
    "p_5 = so_lan_5/so_lan_tung_xuc_xac\n",
    "p_6 = so_lan_6/so_lan_tung_xuc_xac\n",
    "P_greater_than_4 = p_4 + p_5 + p_6\n",
    "p_6_given_p_gt_4 = p_6/P_greater_than_4\n",
    "print(p_4)\n",
    "print(P_greater_than_4)\n",
    "print(p_6_given_p_gt_4)\n"
   ]
  },
  {
   "cell_type": "code",
   "execution_count": null,
   "metadata": {},
   "outputs": [],
   "source": []
  }
 ]
}